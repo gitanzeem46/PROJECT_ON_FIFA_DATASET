{
 "cells": [
  {
   "cell_type": "code",
   "execution_count": 136,
   "id": "94de74c8-0a1d-4832-9787-273291f55832",
   "metadata": {},
   "outputs": [],
   "source": [
    "# loading the required libraies\n",
    "import pandas as pd\n",
    "from matplotlib import pyplot as plt\n",
    "import seaborn as sns"
   ]
  },
  {
   "cell_type": "code",
   "execution_count": 138,
   "id": "79c75b16-07b9-4cbc-a427-d78cfaad01c9",
   "metadata": {},
   "outputs": [],
   "source": [
    "fifa=pd.read_csv('players_20.csv')"
   ]
  },
  {
   "cell_type": "code",
   "execution_count": 140,
   "id": "51adf933-dd32-4aa8-8b03-34dd5dfe68bf",
   "metadata": {},
   "outputs": [
    {
     "data": {
      "text/html": [
       "<div>\n",
       "<style scoped>\n",
       "    .dataframe tbody tr th:only-of-type {\n",
       "        vertical-align: middle;\n",
       "    }\n",
       "\n",
       "    .dataframe tbody tr th {\n",
       "        vertical-align: top;\n",
       "    }\n",
       "\n",
       "    .dataframe thead th {\n",
       "        text-align: right;\n",
       "    }\n",
       "</style>\n",
       "<table border=\"1\" class=\"dataframe\">\n",
       "  <thead>\n",
       "    <tr style=\"text-align: right;\">\n",
       "      <th></th>\n",
       "      <th>Name</th>\n",
       "      <th>Position</th>\n",
       "      <th>Club</th>\n",
       "      <th>League</th>\n",
       "      <th>Pace</th>\n",
       "      <th>Shooting</th>\n",
       "      <th>Passing</th>\n",
       "      <th>Dribbling</th>\n",
       "      <th>Defense</th>\n",
       "      <th>Physical</th>\n",
       "      <th>Card Rating</th>\n",
       "      <th>Weak Foot</th>\n",
       "      <th>Skill Moves</th>\n",
       "      <th>Work Rates</th>\n",
       "      <th>Strong Foot</th>\n",
       "      <th>Futhead Card Link</th>\n",
       "    </tr>\n",
       "  </thead>\n",
       "  <tbody>\n",
       "    <tr>\n",
       "      <th>0</th>\n",
       "      <td>Cristiano Ronaldo</td>\n",
       "      <td>ST</td>\n",
       "      <td>Piemonte Calcio</td>\n",
       "      <td>Italy Serie A</td>\n",
       "      <td>98</td>\n",
       "      <td>99</td>\n",
       "      <td>92</td>\n",
       "      <td>99</td>\n",
       "      <td>43</td>\n",
       "      <td>94</td>\n",
       "      <td>99</td>\n",
       "      <td>4</td>\n",
       "      <td>5</td>\n",
       "      <td>High/Medium</td>\n",
       "      <td>Left</td>\n",
       "      <td>https://www.futhead.com/20/players/22044/crist...</td>\n",
       "    </tr>\n",
       "    <tr>\n",
       "      <th>1</th>\n",
       "      <td>Robert Lewandowski</td>\n",
       "      <td>ST</td>\n",
       "      <td>Bayern M nchen</td>\n",
       "      <td>Germany Bundesliga</td>\n",
       "      <td>94</td>\n",
       "      <td>99</td>\n",
       "      <td>95</td>\n",
       "      <td>97</td>\n",
       "      <td>50</td>\n",
       "      <td>94</td>\n",
       "      <td>99</td>\n",
       "      <td>4</td>\n",
       "      <td>4</td>\n",
       "      <td>High/Medium</td>\n",
       "      <td>Right</td>\n",
       "      <td>https://www.futhead.com/20/players/21968/rober...</td>\n",
       "    </tr>\n",
       "    <tr>\n",
       "      <th>2</th>\n",
       "      <td>Lionel Messi</td>\n",
       "      <td>RW</td>\n",
       "      <td>FC Barcelona</td>\n",
       "      <td>Spain Primera Division</td>\n",
       "      <td>98</td>\n",
       "      <td>99</td>\n",
       "      <td>99</td>\n",
       "      <td>99</td>\n",
       "      <td>44</td>\n",
       "      <td>80</td>\n",
       "      <td>99</td>\n",
       "      <td>4</td>\n",
       "      <td>4</td>\n",
       "      <td>High/Low</td>\n",
       "      <td>Left</td>\n",
       "      <td>https://www.futhead.com/20/players/21921/lione...</td>\n",
       "    </tr>\n",
       "    <tr>\n",
       "      <th>3</th>\n",
       "      <td>Virgil van Dijk</td>\n",
       "      <td>CB</td>\n",
       "      <td>Liverpool</td>\n",
       "      <td>England Premier League</td>\n",
       "      <td>87</td>\n",
       "      <td>80</td>\n",
       "      <td>91</td>\n",
       "      <td>91</td>\n",
       "      <td>99</td>\n",
       "      <td>99</td>\n",
       "      <td>99</td>\n",
       "      <td>3</td>\n",
       "      <td>2</td>\n",
       "      <td>Medium/Medium</td>\n",
       "      <td>Right</td>\n",
       "      <td>https://www.futhead.com/20/players/21874/virgi...</td>\n",
       "    </tr>\n",
       "    <tr>\n",
       "      <th>4</th>\n",
       "      <td>Kevin De Bruyne</td>\n",
       "      <td>CM</td>\n",
       "      <td>Manchester City</td>\n",
       "      <td>England Premier League</td>\n",
       "      <td>92</td>\n",
       "      <td>97</td>\n",
       "      <td>99</td>\n",
       "      <td>98</td>\n",
       "      <td>90</td>\n",
       "      <td>95</td>\n",
       "      <td>99</td>\n",
       "      <td>5</td>\n",
       "      <td>4</td>\n",
       "      <td>High/High</td>\n",
       "      <td>Right</td>\n",
       "      <td>https://www.futhead.com/20/players/21868/kevin...</td>\n",
       "    </tr>\n",
       "  </tbody>\n",
       "</table>\n",
       "</div>"
      ],
      "text/plain": [
       "                 Name Position               Club                    League  \\\n",
       "0   Cristiano Ronaldo      ST    Piemonte Calcio             Italy Serie A    \n",
       "1  Robert Lewandowski      ST     Bayern M nchen        Germany Bundesliga    \n",
       "2        Lionel Messi      RW       FC Barcelona    Spain Primera Division    \n",
       "3     Virgil van Dijk      CB          Liverpool    England Premier League    \n",
       "4     Kevin De Bruyne      CM    Manchester City    England Premier League    \n",
       "\n",
       "   Pace  Shooting  Passing  Dribbling  Defense  Physical  Card Rating  \\\n",
       "0    98        99       92         99       43        94           99   \n",
       "1    94        99       95         97       50        94           99   \n",
       "2    98        99       99         99       44        80           99   \n",
       "3    87        80       91         91       99        99           99   \n",
       "4    92        97       99         98       90        95           99   \n",
       "\n",
       "   Weak Foot  Skill Moves     Work Rates Strong Foot  \\\n",
       "0          4            5    High/Medium        Left   \n",
       "1          4            4    High/Medium       Right   \n",
       "2          4            4       High/Low        Left   \n",
       "3          3            2  Medium/Medium       Right   \n",
       "4          5            4      High/High       Right   \n",
       "\n",
       "                                   Futhead Card Link  \n",
       "0  https://www.futhead.com/20/players/22044/crist...  \n",
       "1  https://www.futhead.com/20/players/21968/rober...  \n",
       "2  https://www.futhead.com/20/players/21921/lione...  \n",
       "3  https://www.futhead.com/20/players/21874/virgi...  \n",
       "4  https://www.futhead.com/20/players/21868/kevin...  "
      ]
     },
     "execution_count": 140,
     "metadata": {},
     "output_type": "execute_result"
    }
   ],
   "source": [
    "fifa.head()"
   ]
  },
  {
   "cell_type": "code",
   "execution_count": 142,
   "id": "eb7d8b35-9e96-4516-8cc3-97ba3068d442",
   "metadata": {},
   "outputs": [
    {
     "name": "stdout",
     "output_type": "stream",
     "text": [
      "Name\n",
      "Position\n",
      "Club\n",
      "League\n",
      "Pace\n",
      "Shooting\n",
      "Passing\n",
      "Dribbling\n",
      "Defense\n",
      "Physical\n",
      "Card Rating\n",
      "Weak Foot\n",
      "Skill Moves\n",
      "Work Rates\n",
      "Strong Foot\n",
      "Futhead Card Link\n"
     ]
    }
   ],
   "source": [
    "for col in fifa.columns:\n",
    "    print(col)"
   ]
  },
  {
   "cell_type": "code",
   "execution_count": 144,
   "id": "1d4732d1-76bc-4869-b1e7-95bbd8b20164",
   "metadata": {},
   "outputs": [
    {
     "data": {
      "text/plain": [
       "(10000, 16)"
      ]
     },
     "execution_count": 144,
     "metadata": {},
     "output_type": "execute_result"
    }
   ],
   "source": [
    "fifa.shape"
   ]
  },
  {
   "cell_type": "code",
   "execution_count": 146,
   "id": "a61bd907-0f14-4ce0-9168-9152f51b00df",
   "metadata": {},
   "outputs": [
    {
     "data": {
      "text/plain": [
       "League\n",
       "Germany Bundesliga                       1007\n",
       "England Premier League                    934\n",
       "Spain Primera Division                    841\n",
       "Italy Serie A                             815\n",
       "France Ligue                              743\n",
       "England EFL Championship                  432\n",
       "Argentina Primera Divisi n                408\n",
       "Turkey S per Lig                          381\n",
       "USA Major League Soccer                   363\n",
       "Portugal Liga NOS                         351\n",
       "Icons                                     342\n",
       "Spain Segunda A                           304\n",
       "Mexico Liga MX                            299\n",
       "Belgium Jupiler Pro League                289\n",
       "Holland Eredivisie                        256\n",
       "Italy Serie B                             207\n",
       "Colombia Liga Aguila                      196\n",
       "Chile Campeonato Nacional Scotiabank      160\n",
       "Saudi Dawry Jameel League                 138\n",
       "Japan J League                            133\n",
       "China Super League                        120\n",
       "Greece A Ethniki                          105\n",
       "Poland Ekstraklasa                         94\n",
       "Switzerland Super League                   92\n",
       "Austria Bundesliga                         91\n",
       "Scotland Premiership                       90\n",
       "Korea K League Classic                     86\n",
       "Romania Liga I                             75\n",
       "Denmark Superliga                          73\n",
       "Czech Republic HET Liga                    72\n",
       "Sweden Allsvenskan                         70\n",
       "Russia FUT League                          68\n",
       "England EFL League One                     61\n",
       "Ukraine Premier Liga                       58\n",
       "Norway Eliteserien                         51\n",
       "CONMEBOL Libertadores                      42\n",
       "Australia Hyundai A League                 39\n",
       "Germany Liga                               35\n",
       "Croatia PRva HNL                           27\n",
       "South Africa Premier SL                    19\n",
       "England EFL League Two                     14\n",
       "Rest of World                              10\n",
       "Rep Ireland Airtricity League               6\n",
       "Finland Veikkausliiga                       2\n",
       "Free Agents League                          1\n",
       "Name: count, dtype: int64"
      ]
     },
     "execution_count": 146,
     "metadata": {},
     "output_type": "execute_result"
    }
   ],
   "source": [
    "fifa['League'].value_counts()"
   ]
  },
  {
   "cell_type": "code",
   "execution_count": 148,
   "id": "297a1f84-3412-4d5b-9b75-61ecccb98206",
   "metadata": {},
   "outputs": [
    {
     "data": {
      "text/plain": [
       "League\n",
       "Germany Bundesliga             1007\n",
       "England Premier League          934\n",
       "Spain Primera Division          841\n",
       "Italy Serie A                   815\n",
       "France Ligue                    743\n",
       "England EFL Championship        432\n",
       "Argentina Primera Divisi n      408\n",
       "Turkey S per Lig                381\n",
       "USA Major League Soccer         363\n",
       "Portugal Liga NOS               351\n",
       "Name: count, dtype: int64"
      ]
     },
     "execution_count": 148,
     "metadata": {},
     "output_type": "execute_result"
    }
   ],
   "source": [
    "fifa['League'].value_counts()[0:10]"
   ]
  },
  {
   "cell_type": "code",
   "execution_count": 150,
   "id": "848aa6cb-27c3-4501-bfdf-2cbc53782032",
   "metadata": {},
   "outputs": [
    {
     "data": {
      "text/plain": [
       "Index([' Germany Bundesliga ', ' England Premier League ',\n",
       "       ' Spain Primera Division ', ' Italy Serie A ', ' France Ligue '],\n",
       "      dtype='object', name='League')"
      ]
     },
     "execution_count": 150,
     "metadata": {},
     "output_type": "execute_result"
    }
   ],
   "source": [
    "fifa['League'].value_counts()[0:5].keys()"
   ]
  },
  {
   "cell_type": "code",
   "execution_count": 152,
   "id": "563e8900-4742-47c9-abe5-9eeff9b3f39d",
   "metadata": {},
   "outputs": [
    {
     "data": {
      "image/png": "[encoded data removed]",
      "text/plain": [
       "<Figure size 640x480 with 1 Axes>"
      ]
     },
     "metadata": {},
     "output_type": "display_data"
    }
   ],
   "source": [
    "plt.plot(figsize=(5,5))\n",
    "plt.bar(list(fifa['League'].value_counts()[0:5].keys()),list(fifa['League'].value_counts()[0:5]),color=\"g\")\n",
    "plt.show()"
   ]
  },
  {
   "cell_type": "code",
   "execution_count": 154,
   "id": "922413aa-377d-4025-9786-391443623278",
   "metadata": {},
   "outputs": [],
   "source": [
    "player_Physical=fifa[['Name','Physical']]"
   ]
  },
  {
   "cell_type": "code",
   "execution_count": 156,
   "id": "8cba7593-36b7-46c1-9ac3-68d137c6c4e3",
   "metadata": {},
   "outputs": [
    {
     "data": {
      "text/html": [
       "<div>\n",
       "<style scoped>\n",
       "    .dataframe tbody tr th:only-of-type {\n",
       "        vertical-align: middle;\n",
       "    }\n",
       "\n",
       "    .dataframe tbody tr th {\n",
       "        vertical-align: top;\n",
       "    }\n",
       "\n",
       "    .dataframe thead th {\n",
       "        text-align: right;\n",
       "    }\n",
       "</style>\n",
       "<table border=\"1\" class=\"dataframe\">\n",
       "  <thead>\n",
       "    <tr style=\"text-align: right;\">\n",
       "      <th></th>\n",
       "      <th>Name</th>\n",
       "      <th>Physical</th>\n",
       "    </tr>\n",
       "  </thead>\n",
       "  <tbody>\n",
       "    <tr>\n",
       "      <th>0</th>\n",
       "      <td>Cristiano Ronaldo</td>\n",
       "      <td>94</td>\n",
       "    </tr>\n",
       "    <tr>\n",
       "      <th>1</th>\n",
       "      <td>Robert Lewandowski</td>\n",
       "      <td>94</td>\n",
       "    </tr>\n",
       "    <tr>\n",
       "      <th>2</th>\n",
       "      <td>Lionel Messi</td>\n",
       "      <td>80</td>\n",
       "    </tr>\n",
       "    <tr>\n",
       "      <th>3</th>\n",
       "      <td>Virgil van Dijk</td>\n",
       "      <td>99</td>\n",
       "    </tr>\n",
       "    <tr>\n",
       "      <th>4</th>\n",
       "      <td>Kevin De Bruyne</td>\n",
       "      <td>95</td>\n",
       "    </tr>\n",
       "  </tbody>\n",
       "</table>\n",
       "</div>"
      ],
      "text/plain": [
       "                 Name  Physical\n",
       "0   Cristiano Ronaldo        94\n",
       "1  Robert Lewandowski        94\n",
       "2        Lionel Messi        80\n",
       "3     Virgil van Dijk        99\n",
       "4     Kevin De Bruyne        95"
      ]
     },
     "execution_count": 156,
     "metadata": {},
     "output_type": "execute_result"
    }
   ],
   "source": [
    "player_Physical.head()"
   ]
  },
  {
   "cell_type": "code",
   "execution_count": 158,
   "id": "d52c188c-e2b3-4e38-9b72-730cb8927768",
   "metadata": {},
   "outputs": [],
   "source": [
    "player_Physical=player_Physical.sort_values(by=['Physical'],ascending=False)"
   ]
  },
  {
   "cell_type": "code",
   "execution_count": 160,
   "id": "9ac5df10-9019-49dd-ae50-01af023ed715",
   "metadata": {},
   "outputs": [
    {
     "data": {
      "text/html": [
       "<div>\n",
       "<style scoped>\n",
       "    .dataframe tbody tr th:only-of-type {\n",
       "        vertical-align: middle;\n",
       "    }\n",
       "\n",
       "    .dataframe tbody tr th {\n",
       "        vertical-align: top;\n",
       "    }\n",
       "\n",
       "    .dataframe thead th {\n",
       "        text-align: right;\n",
       "    }\n",
       "</style>\n",
       "<table border=\"1\" class=\"dataframe\">\n",
       "  <thead>\n",
       "    <tr style=\"text-align: right;\">\n",
       "      <th></th>\n",
       "      <th>Name</th>\n",
       "      <th>Physical</th>\n",
       "    </tr>\n",
       "  </thead>\n",
       "  <tbody>\n",
       "    <tr>\n",
       "      <th>3</th>\n",
       "      <td>Virgil van Dijk</td>\n",
       "      <td>99</td>\n",
       "    </tr>\n",
       "    <tr>\n",
       "      <th>100</th>\n",
       "      <td>Moussa Sissoko</td>\n",
       "      <td>99</td>\n",
       "    </tr>\n",
       "    <tr>\n",
       "      <th>4198</th>\n",
       "      <td>Adebayo Akinfenwa</td>\n",
       "      <td>99</td>\n",
       "    </tr>\n",
       "    <tr>\n",
       "      <th>40</th>\n",
       "      <td>Lautaro Martínez</td>\n",
       "      <td>98</td>\n",
       "    </tr>\n",
       "    <tr>\n",
       "      <th>34</th>\n",
       "      <td>Aduriz</td>\n",
       "      <td>98</td>\n",
       "    </tr>\n",
       "  </tbody>\n",
       "</table>\n",
       "</div>"
      ],
      "text/plain": [
       "                   Name  Physical\n",
       "3       Virgil van Dijk        99\n",
       "100      Moussa Sissoko        99\n",
       "4198  Adebayo Akinfenwa        99\n",
       "40     Lautaro Martínez        98\n",
       "34               Aduriz        98"
      ]
     },
     "execution_count": 160,
     "metadata": {},
     "output_type": "execute_result"
    }
   ],
   "source": [
    "player_Physical.head()"
   ]
  },
  {
   "cell_type": "code",
   "execution_count": null,
   "id": "67f04e33-8c36-4c75-96ab-f718014c2de1",
   "metadata": {},
   "outputs": [],
   "source": []
  },
  {
   "cell_type": "code",
   "execution_count": null,
   "id": "d37940ef-1704-49d1-9957-35dc2192699f",
   "metadata": {},
   "outputs": [],
   "source": []
  },
  {
   "cell_type": "code",
   "execution_count": null,
   "id": "c665d790-166a-4962-94dc-233a440763f8",
   "metadata": {},
   "outputs": [],
   "source": []
  },
  {
   "cell_type": "code",
   "execution_count": null,
   "id": "ddb01683-05a4-411d-8a9f-2e126237bbc9",
   "metadata": {},
   "outputs": [],
   "source": []
  },
  {
   "cell_type": "code",
   "execution_count": null,
   "id": "50e99ff7-ac88-44b3-85f3-e7ca397ff1ad",
   "metadata": {},
   "outputs": [],
   "source": []
  }
 ],
 "metadata": {
  "kernelspec": {
   "display_name": "Python 3 (ipykernel)",
   "language": "python",
   "name": "python3"
  },
  "language_info": {
   "codemirror_mode": {
    "name": "ipython",
    "version": 3
   },
   "file_extension": ".py",
   "mimetype": "text/x-python",
   "name": "python",
   "nbconvert_exporter": "python",
   "pygments_lexer": "ipython3",
   "version": "3.12.4"
  }
 },
 "nbformat": 4,
 "nbformat_minor": 5
}
